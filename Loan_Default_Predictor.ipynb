{
 "cells": [
  {
   "cell_type": "code",
   "execution_count": 2,
   "metadata": {
    "colab": {
     "base_uri": "https://localhost:8080/"
    },
    "executionInfo": {
     "elapsed": 39741,
     "status": "ok",
     "timestamp": 1707322978615,
     "user": {
      "displayName": "Héctor Chapa",
      "userId": "05730037130710075095"
     },
     "user_tz": 360
    },
    "id": "4rTy5nhhcj51",
    "outputId": "7bb5546a-4a83-450e-8066-95d0a73512e8"
   },
   "outputs": [],
   "source": [
    "#!pip install -U graphviz scikit-learn neptune-xgboost xgboost hyperopt mlflow deepchecks\n",
    "#!pip install -U \"neptune[xgboost]\""
   ]
  },
  {
   "cell_type": "code",
   "execution_count": 3,
   "metadata": {
    "executionInfo": {
     "elapsed": 425,
     "status": "ok",
     "timestamp": 1707322979029,
     "user": {
      "displayName": "Héctor Chapa",
      "userId": "05730037130710075095"
     },
     "user_tz": 360
    },
    "id": "hoUP1Hb4c2fC"
   },
   "outputs": [],
   "source": [
    "import pandas as pd\n",
    "import numpy as np\n",
    "# from google.colab import drive\n",
    "import os"
   ]
  },
  {
   "cell_type": "code",
   "execution_count": 4,
   "metadata": {
    "colab": {
     "base_uri": "https://localhost:8080/"
    },
    "executionInfo": {
     "elapsed": 2248,
     "status": "ok",
     "timestamp": 1707322981275,
     "user": {
      "displayName": "Héctor Chapa",
      "userId": "05730037130710075095"
     },
     "user_tz": 360
    },
    "id": "AICUjfeXdgV9",
    "outputId": "c271ff72-bb38-4053-e1e0-d8246a6d7e77"
   },
   "outputs": [],
   "source": [
    "# drive.mount('/content/gdrive')"
   ]
  },
  {
   "cell_type": "markdown",
   "metadata": {
    "id": "qSTIoIfDeM6m"
   },
   "source": [
    "## **READING AND MERGING DATA**"
   ]
  },
  {
   "cell_type": "code",
   "execution_count": 7,
   "metadata": {
    "executionInfo": {
     "elapsed": 67664,
     "status": "ok",
     "timestamp": 1707323048936,
     "user": {
      "displayName": "Héctor Chapa",
      "userId": "05730037130710075095"
     },
     "user_tz": 360
    },
    "id": "Tdoq22-weDjx"
   },
   "outputs": [],
   "source": [
    "# SPECIFY THE FILE PATH OF THE EXCEL FILE CONTAINING THE DATASET\n",
    "path = r'C:\\Users\\hecto\\Documents\\PROJECTS\\Python\\Loan Default Prediction Using ML Models\\Credit_Risk_Dataset.xlsx'\n",
    "\n",
    "# CALL THE FUNCTION TO READ THE EXCEL DATA\n",
    "sheet_names = ['loan_information', 'Employment', 'Personal_information', 'Other_information']\n",
    "\n",
    "loan_information = pd.read_excel(path, 'loan_information')\n",
    "employment = pd.read_excel(path, 'Employment')\n",
    "personal_information = pd.read_excel(path, 'Personal_information')\n",
    "other_information = pd.read_excel(path, 'Other_information')"
   ]
  },
  {
   "cell_type": "code",
   "execution_count": 8,
   "metadata": {
    "colab": {
     "base_uri": "https://localhost:8080/",
     "height": 308
    },
    "executionInfo": {
     "elapsed": 693,
     "status": "ok",
     "timestamp": 1707323049617,
     "user": {
      "displayName": "Héctor Chapa",
      "userId": "05730037130710075095"
     },
     "user_tz": 360
    },
    "id": "cow8mnSKfnzo",
    "outputId": "bf599e72-b0f7-4fa4-b8df-e4c2ac1fb709"
   },
   "outputs": [
    {
     "data": {
      "text/html": [
       "<div>\n",
       "<style scoped>\n",
       "    .dataframe tbody tr th:only-of-type {\n",
       "        vertical-align: middle;\n",
       "    }\n",
       "\n",
       "    .dataframe tbody tr th {\n",
       "        vertical-align: top;\n",
       "    }\n",
       "\n",
       "    .dataframe thead th {\n",
       "        text-align: right;\n",
       "    }\n",
       "</style>\n",
       "<table border=\"1\" class=\"dataframe\">\n",
       "  <thead>\n",
       "    <tr style=\"text-align: right;\">\n",
       "      <th></th>\n",
       "      <th>User_id</th>\n",
       "      <th>Loan Category</th>\n",
       "      <th>Amount</th>\n",
       "      <th>Interest Rate</th>\n",
       "      <th>Tenure(years)</th>\n",
       "      <th>User id_x</th>\n",
       "      <th>Employmet type</th>\n",
       "      <th>Tier of Employment</th>\n",
       "      <th>Industry</th>\n",
       "      <th>Role</th>\n",
       "      <th>...</th>\n",
       "      <th>Home</th>\n",
       "      <th>Pincode</th>\n",
       "      <th>Social Profile</th>\n",
       "      <th>Is_verified</th>\n",
       "      <th>Delinq_2yrs</th>\n",
       "      <th>Total Payement</th>\n",
       "      <th>Received Principal</th>\n",
       "      <th>Interest Received</th>\n",
       "      <th>Number of loans</th>\n",
       "      <th>Defaulter</th>\n",
       "    </tr>\n",
       "  </thead>\n",
       "  <tbody>\n",
       "    <tr>\n",
       "      <th>0</th>\n",
       "      <td>7013527</td>\n",
       "      <td>Consolidation</td>\n",
       "      <td>55884.0</td>\n",
       "      <td>11.84</td>\n",
       "      <td>6</td>\n",
       "      <td>7013527</td>\n",
       "      <td>Salaried</td>\n",
       "      <td>B</td>\n",
       "      <td>mLVIVxoGY7TUDJ1FyFoSIZi1SFcaBmO01AydRchaEiGYtU...</td>\n",
       "      <td>KHMbckjadbckIFGAZSEWdkcndwkcnCCM</td>\n",
       "      <td>...</td>\n",
       "      <td>rent</td>\n",
       "      <td>XX852X</td>\n",
       "      <td>No</td>\n",
       "      <td>NaN</td>\n",
       "      <td>0</td>\n",
       "      <td>1824.150000</td>\n",
       "      <td>971.46</td>\n",
       "      <td>852.69</td>\n",
       "      <td>0</td>\n",
       "      <td>1</td>\n",
       "    </tr>\n",
       "    <tr>\n",
       "      <th>1</th>\n",
       "      <td>7014291</td>\n",
       "      <td>Consolidation</td>\n",
       "      <td>55511.0</td>\n",
       "      <td>16.94</td>\n",
       "      <td>4</td>\n",
       "      <td>7014291</td>\n",
       "      <td>Self - Employeed</td>\n",
       "      <td>D</td>\n",
       "      <td>mLVIVxoGY7TUDJ1FyFoSIZi1SFcaBmO01AydRchaEiGYtU...</td>\n",
       "      <td>KHMbckjadbckIFGNCSEWdkcndwkcnCCM</td>\n",
       "      <td>...</td>\n",
       "      <td>mortgage</td>\n",
       "      <td>XX286X</td>\n",
       "      <td>NaN</td>\n",
       "      <td>Source Verified</td>\n",
       "      <td>0</td>\n",
       "      <td>22912.532998</td>\n",
       "      <td>18000.00</td>\n",
       "      <td>4912.53</td>\n",
       "      <td>0</td>\n",
       "      <td>0</td>\n",
       "    </tr>\n",
       "    <tr>\n",
       "      <th>2</th>\n",
       "      <td>7014327</td>\n",
       "      <td>Consolidation</td>\n",
       "      <td>12289.0</td>\n",
       "      <td>11.84</td>\n",
       "      <td>6</td>\n",
       "      <td>7014327</td>\n",
       "      <td>NaN</td>\n",
       "      <td>NaN</td>\n",
       "      <td>mLVIVxoGY7TUDJ1FyFoSIZi1SFcaBmO01AydRchaEiGYtU...</td>\n",
       "      <td>KHMbckjadbckIFGNYSEWdkcndwkcnCCM</td>\n",
       "      <td>...</td>\n",
       "      <td>own</td>\n",
       "      <td>XX113X</td>\n",
       "      <td>No</td>\n",
       "      <td>NaN</td>\n",
       "      <td>0</td>\n",
       "      <td>7800.440000</td>\n",
       "      <td>4489.76</td>\n",
       "      <td>3310.68</td>\n",
       "      <td>0</td>\n",
       "      <td>1</td>\n",
       "    </tr>\n",
       "    <tr>\n",
       "      <th>3</th>\n",
       "      <td>7014304</td>\n",
       "      <td>Credit Card</td>\n",
       "      <td>29324.0</td>\n",
       "      <td>14.71</td>\n",
       "      <td>4</td>\n",
       "      <td>7014304</td>\n",
       "      <td>NaN</td>\n",
       "      <td>NaN</td>\n",
       "      <td>mLVIVxoGY7TUDJ1FyFoSIZi1SFcaBmO01AydRchaEiGYtU...</td>\n",
       "      <td>KHMbckjadbckIFGCASEWdkcndwkcnCCM</td>\n",
       "      <td>...</td>\n",
       "      <td>rent</td>\n",
       "      <td>XX941X</td>\n",
       "      <td>Yes</td>\n",
       "      <td>NaN</td>\n",
       "      <td>0</td>\n",
       "      <td>6672.050000</td>\n",
       "      <td>5212.29</td>\n",
       "      <td>1459.76</td>\n",
       "      <td>0</td>\n",
       "      <td>0</td>\n",
       "    </tr>\n",
       "    <tr>\n",
       "      <th>4</th>\n",
       "      <td>7031995</td>\n",
       "      <td>Credit Card</td>\n",
       "      <td>30252.0</td>\n",
       "      <td>14.71</td>\n",
       "      <td>4</td>\n",
       "      <td>7031995</td>\n",
       "      <td>NaN</td>\n",
       "      <td>NaN</td>\n",
       "      <td>mLVIVxoGY7TUDJ1FyFoSIZi1SFcaBmO01AydRchaEiGYtU...</td>\n",
       "      <td>KHMbckjadbckIFGCASEWdkcndwkcnCCM</td>\n",
       "      <td>...</td>\n",
       "      <td>rent</td>\n",
       "      <td>XX913X</td>\n",
       "      <td>No</td>\n",
       "      <td>Verified</td>\n",
       "      <td>0</td>\n",
       "      <td>11793.001345</td>\n",
       "      <td>10000.00</td>\n",
       "      <td>1793.00</td>\n",
       "      <td>0</td>\n",
       "      <td>0</td>\n",
       "    </tr>\n",
       "  </tbody>\n",
       "</table>\n",
       "<p>5 rows × 26 columns</p>\n",
       "</div>"
      ],
      "text/plain": [
       "   User_id  Loan Category   Amount  Interest Rate  Tenure(years)  User id_x  \\\n",
       "0  7013527  Consolidation  55884.0          11.84              6    7013527   \n",
       "1  7014291  Consolidation  55511.0          16.94              4    7014291   \n",
       "2  7014327  Consolidation  12289.0          11.84              6    7014327   \n",
       "3  7014304    Credit Card  29324.0          14.71              4    7014304   \n",
       "4  7031995    Credit Card  30252.0          14.71              4    7031995   \n",
       "\n",
       "     Employmet type Tier of Employment  \\\n",
       "0          Salaried                  B   \n",
       "1  Self - Employeed                  D   \n",
       "2               NaN                NaN   \n",
       "3               NaN                NaN   \n",
       "4               NaN                NaN   \n",
       "\n",
       "                                            Industry  \\\n",
       "0  mLVIVxoGY7TUDJ1FyFoSIZi1SFcaBmO01AydRchaEiGYtU...   \n",
       "1  mLVIVxoGY7TUDJ1FyFoSIZi1SFcaBmO01AydRchaEiGYtU...   \n",
       "2  mLVIVxoGY7TUDJ1FyFoSIZi1SFcaBmO01AydRchaEiGYtU...   \n",
       "3  mLVIVxoGY7TUDJ1FyFoSIZi1SFcaBmO01AydRchaEiGYtU...   \n",
       "4  mLVIVxoGY7TUDJ1FyFoSIZi1SFcaBmO01AydRchaEiGYtU...   \n",
       "\n",
       "                               Role  ...      Home  Pincode  Social Profile  \\\n",
       "0  KHMbckjadbckIFGAZSEWdkcndwkcnCCM  ...      rent   XX852X              No   \n",
       "1  KHMbckjadbckIFGNCSEWdkcndwkcnCCM  ...  mortgage   XX286X             NaN   \n",
       "2  KHMbckjadbckIFGNYSEWdkcndwkcnCCM  ...       own   XX113X              No   \n",
       "3  KHMbckjadbckIFGCASEWdkcndwkcnCCM  ...      rent   XX941X             Yes   \n",
       "4  KHMbckjadbckIFGCASEWdkcndwkcnCCM  ...      rent   XX913X              No   \n",
       "\n",
       "       Is_verified Delinq_2yrs  Total Payement  Received Principal  \\\n",
       "0              NaN           0      1824.150000             971.46   \n",
       "1  Source Verified           0     22912.532998           18000.00   \n",
       "2              NaN           0      7800.440000            4489.76   \n",
       "3              NaN           0      6672.050000            5212.29   \n",
       "4         Verified           0     11793.001345           10000.00   \n",
       "\n",
       "  Interest Received Number of loans Defaulter  \n",
       "0            852.69               0         1  \n",
       "1           4912.53               0         0  \n",
       "2           3310.68               0         1  \n",
       "3           1459.76               0         0  \n",
       "4           1793.00               0         0  \n",
       "\n",
       "[5 rows x 26 columns]"
      ]
     },
     "execution_count": 8,
     "metadata": {},
     "output_type": "execute_result"
    }
   ],
   "source": [
    "# Merge 'loan information' and 'Employment' dataframes based on User_id\n",
    "merged_df = pd.merge(loan_information, employment, left_on='User_id', right_on='User id')\n",
    "\n",
    "# Merge the previously merged dataframe with 'personal information' based on 'User_id'\n",
    "merged_df = pd.merge(merged_df, personal_information, left_on='User_id', right_on='User id')\n",
    "\n",
    "# Merge the previously merged dataframe with 'other information' based on 'User_id'\n",
    "merged_df = pd.merge(merged_df, other_information, left_on='User_id', right_on='User_id')\n",
    "\n",
    "df = merged_df\n",
    "\n",
    "# Display the first few rows of the merged dataframe\n",
    "df.head()\n"
   ]
  },
  {
   "cell_type": "markdown",
   "metadata": {
    "id": "wcey0lq8jTJC"
   },
   "source": [
    "# **EXPLORATORY DATA ANALYSIS AND DATA PREPARATION**"
   ]
  },
  {
   "cell_type": "markdown",
   "metadata": {
    "id": "wJy4QS-HjfF5"
   },
   "source": [
    "**GOAL TO UNDERSTAND:**\n",
    "\n",
    "\n",
    "*   **Identify data types of each column**\n",
    "*   **Understand basic statistics of all numerical columns**\n",
    "*   **Check Missing Values**\n",
    "*   **Plan for Handling Missing Values**\n",
    "--------------------------------------------------------------------------------\n",
    "*   **Analyze the distribution of each column**\n",
    "*   **Assess the quality of data based on the distribution**\n",
    "*   **Identify any skewness in the data**\n",
    "*   **Investigate the reasons behind data skewness**\n",
    "--------------------------------------------------------------------------------\n",
    "*   **Identify and handle categorical values**\n",
    "*   **Identify and handle ordinal features**\n",
    "--------------------------------------------------------------------------------\n",
    "*   **Examine the correlation between different numeric variables**\n",
    "*   **Examine the correlation between categorical variables**\n",
    "--------------------------------------------------------------------------------\n",
    "*   **Fix data imbalance**\n",
    "\n",
    "\n",
    "\n",
    "\n",
    "\n",
    "\n",
    "\n"
   ]
  },
  {
   "cell_type": "code",
   "execution_count": 9,
   "metadata": {
    "colab": {
     "base_uri": "https://localhost:8080/"
    },
    "executionInfo": {
     "elapsed": 7,
     "status": "ok",
     "timestamp": 1707323049618,
     "user": {
      "displayName": "Héctor Chapa",
      "userId": "05730037130710075095"
     },
     "user_tz": 360
    },
    "id": "jAtZScAsgY-X",
    "outputId": "768fa911-2956-49ea-e56b-b01d4851af4c"
   },
   "outputs": [
    {
     "data": {
      "text/plain": [
       "User_id                 int64\n",
       "Loan Category          object\n",
       "Amount                float64\n",
       "Interest Rate         float64\n",
       "Tenure(years)           int64\n",
       "User id_x               int64\n",
       "Employmet type         object\n",
       "Tier of Employment     object\n",
       "Industry               object\n",
       "Role                   object\n",
       "Work Experience        object\n",
       "Total Income(PA)      float64\n",
       "User id_y               int64\n",
       "Gender                 object\n",
       "Married                object\n",
       "Dependents              int64\n",
       "Home                   object\n",
       "Pincode                object\n",
       "Social Profile         object\n",
       "Is_verified            object\n",
       "Delinq_2yrs             int64\n",
       "Total Payement        float64\n",
       "Received Principal    float64\n",
       "Interest Received     float64\n",
       "Number of loans         int64\n",
       "Defaulter               int64\n",
       "dtype: object"
      ]
     },
     "execution_count": 9,
     "metadata": {},
     "output_type": "execute_result"
    }
   ],
   "source": [
    "# Display data types for each column in the dataframe. Goal is to see if there is any column with the wrong data type\n",
    "df.dtypes"
   ]
  },
  {
   "cell_type": "code",
   "execution_count": 10,
   "metadata": {
    "colab": {
     "base_uri": "https://localhost:8080/",
     "height": 300
    },
    "executionInfo": {
     "elapsed": 6,
     "status": "ok",
     "timestamp": 1707323049618,
     "user": {
      "displayName": "Héctor Chapa",
      "userId": "05730037130710075095"
     },
     "user_tz": 360
    },
    "id": "4YQ7A3atk-df",
    "outputId": "376930c7-2f25-4ece-b691-fd83fcdf0ce0"
   },
   "outputs": [
    {
     "data": {
      "text/html": [
       "<div>\n",
       "<style scoped>\n",
       "    .dataframe tbody tr th:only-of-type {\n",
       "        vertical-align: middle;\n",
       "    }\n",
       "\n",
       "    .dataframe tbody tr th {\n",
       "        vertical-align: top;\n",
       "    }\n",
       "\n",
       "    .dataframe thead th {\n",
       "        text-align: right;\n",
       "    }\n",
       "</style>\n",
       "<table border=\"1\" class=\"dataframe\">\n",
       "  <thead>\n",
       "    <tr style=\"text-align: right;\">\n",
       "      <th></th>\n",
       "      <th>User_id</th>\n",
       "      <th>Amount</th>\n",
       "      <th>Interest Rate</th>\n",
       "      <th>Tenure(years)</th>\n",
       "      <th>User id_x</th>\n",
       "      <th>Total Income(PA)</th>\n",
       "      <th>User id_y</th>\n",
       "      <th>Dependents</th>\n",
       "      <th>Delinq_2yrs</th>\n",
       "      <th>Total Payement</th>\n",
       "      <th>Received Principal</th>\n",
       "      <th>Interest Received</th>\n",
       "      <th>Number of loans</th>\n",
       "      <th>Defaulter</th>\n",
       "    </tr>\n",
       "  </thead>\n",
       "  <tbody>\n",
       "    <tr>\n",
       "      <th>count</th>\n",
       "      <td>1.437270e+05</td>\n",
       "      <td>1.118030e+05</td>\n",
       "      <td>143727.000000</td>\n",
       "      <td>143727.000000</td>\n",
       "      <td>1.437270e+05</td>\n",
       "      <td>1.437270e+05</td>\n",
       "      <td>1.437270e+05</td>\n",
       "      <td>143727.000000</td>\n",
       "      <td>143727.000000</td>\n",
       "      <td>143727.000000</td>\n",
       "      <td>143727.000000</td>\n",
       "      <td>143727.000000</td>\n",
       "      <td>143727.000000</td>\n",
       "      <td>143727.000000</td>\n",
       "    </tr>\n",
       "    <tr>\n",
       "      <th>mean</th>\n",
       "      <td>3.733474e+07</td>\n",
       "      <td>1.376458e+05</td>\n",
       "      <td>12.038703</td>\n",
       "      <td>4.514503</td>\n",
       "      <td>3.733474e+07</td>\n",
       "      <td>7.242256e+04</td>\n",
       "      <td>3.733474e+07</td>\n",
       "      <td>1.997113</td>\n",
       "      <td>0.276601</td>\n",
       "      <td>10840.882025</td>\n",
       "      <td>8407.001538</td>\n",
       "      <td>2352.729746</td>\n",
       "      <td>0.005573</td>\n",
       "      <td>0.093712</td>\n",
       "    </tr>\n",
       "    <tr>\n",
       "      <th>std</th>\n",
       "      <td>3.182811e+07</td>\n",
       "      <td>1.575427e+05</td>\n",
       "      <td>3.880204</td>\n",
       "      <td>0.874241</td>\n",
       "      <td>3.182811e+07</td>\n",
       "      <td>5.539328e+04</td>\n",
       "      <td>3.182811e+07</td>\n",
       "      <td>1.411317</td>\n",
       "      <td>0.789019</td>\n",
       "      <td>8613.421536</td>\n",
       "      <td>7224.396032</td>\n",
       "      <td>2447.759754</td>\n",
       "      <td>0.098785</td>\n",
       "      <td>0.291429</td>\n",
       "    </tr>\n",
       "    <tr>\n",
       "      <th>min</th>\n",
       "      <td>2.080360e+05</td>\n",
       "      <td>0.000000e+00</td>\n",
       "      <td>5.420000</td>\n",
       "      <td>4.000000</td>\n",
       "      <td>2.080360e+05</td>\n",
       "      <td>4.000000e+03</td>\n",
       "      <td>2.080360e+05</td>\n",
       "      <td>0.000000</td>\n",
       "      <td>0.000000</td>\n",
       "      <td>0.000000</td>\n",
       "      <td>0.000000</td>\n",
       "      <td>0.000000</td>\n",
       "      <td>0.000000</td>\n",
       "      <td>0.000000</td>\n",
       "    </tr>\n",
       "    <tr>\n",
       "      <th>25%</th>\n",
       "      <td>3.276118e+06</td>\n",
       "      <td>2.837950e+04</td>\n",
       "      <td>9.180000</td>\n",
       "      <td>4.000000</td>\n",
       "      <td>3.276118e+06</td>\n",
       "      <td>4.500000e+04</td>\n",
       "      <td>3.276118e+06</td>\n",
       "      <td>1.000000</td>\n",
       "      <td>0.000000</td>\n",
       "      <td>4674.775000</td>\n",
       "      <td>3104.160000</td>\n",
       "      <td>841.685000</td>\n",
       "      <td>0.000000</td>\n",
       "      <td>0.000000</td>\n",
       "    </tr>\n",
       "    <tr>\n",
       "      <th>50%</th>\n",
       "      <td>5.766517e+07</td>\n",
       "      <td>7.660300e+04</td>\n",
       "      <td>11.840000</td>\n",
       "      <td>4.000000</td>\n",
       "      <td>5.766517e+07</td>\n",
       "      <td>6.180000e+04</td>\n",
       "      <td>5.766517e+07</td>\n",
       "      <td>2.000000</td>\n",
       "      <td>0.000000</td>\n",
       "      <td>8212.410000</td>\n",
       "      <td>6000.000000</td>\n",
       "      <td>1632.240000</td>\n",
       "      <td>0.000000</td>\n",
       "      <td>0.000000</td>\n",
       "    </tr>\n",
       "    <tr>\n",
       "      <th>75%</th>\n",
       "      <td>6.729174e+07</td>\n",
       "      <td>2.054645e+05</td>\n",
       "      <td>14.440000</td>\n",
       "      <td>6.000000</td>\n",
       "      <td>6.729174e+07</td>\n",
       "      <td>8.600000e+04</td>\n",
       "      <td>6.729174e+07</td>\n",
       "      <td>3.000000</td>\n",
       "      <td>0.000000</td>\n",
       "      <td>14175.769677</td>\n",
       "      <td>11664.365000</td>\n",
       "      <td>2904.770000</td>\n",
       "      <td>0.000000</td>\n",
       "      <td>0.000000</td>\n",
       "    </tr>\n",
       "    <tr>\n",
       "      <th>max</th>\n",
       "      <td>7.895894e+07</td>\n",
       "      <td>8.000078e+06</td>\n",
       "      <td>23.540000</td>\n",
       "      <td>6.000000</td>\n",
       "      <td>7.895894e+07</td>\n",
       "      <td>7.141778e+06</td>\n",
       "      <td>7.895894e+07</td>\n",
       "      <td>4.000000</td>\n",
       "      <td>22.000000</td>\n",
       "      <td>57777.579870</td>\n",
       "      <td>35000.010000</td>\n",
       "      <td>24205.620000</td>\n",
       "      <td>5.000000</td>\n",
       "      <td>1.000000</td>\n",
       "    </tr>\n",
       "  </tbody>\n",
       "</table>\n",
       "</div>"
      ],
      "text/plain": [
       "            User_id        Amount  Interest Rate  Tenure(years)     User id_x  \\\n",
       "count  1.437270e+05  1.118030e+05  143727.000000  143727.000000  1.437270e+05   \n",
       "mean   3.733474e+07  1.376458e+05      12.038703       4.514503  3.733474e+07   \n",
       "std    3.182811e+07  1.575427e+05       3.880204       0.874241  3.182811e+07   \n",
       "min    2.080360e+05  0.000000e+00       5.420000       4.000000  2.080360e+05   \n",
       "25%    3.276118e+06  2.837950e+04       9.180000       4.000000  3.276118e+06   \n",
       "50%    5.766517e+07  7.660300e+04      11.840000       4.000000  5.766517e+07   \n",
       "75%    6.729174e+07  2.054645e+05      14.440000       6.000000  6.729174e+07   \n",
       "max    7.895894e+07  8.000078e+06      23.540000       6.000000  7.895894e+07   \n",
       "\n",
       "       Total Income(PA)     User id_y     Dependents    Delinq_2yrs  \\\n",
       "count      1.437270e+05  1.437270e+05  143727.000000  143727.000000   \n",
       "mean       7.242256e+04  3.733474e+07       1.997113       0.276601   \n",
       "std        5.539328e+04  3.182811e+07       1.411317       0.789019   \n",
       "min        4.000000e+03  2.080360e+05       0.000000       0.000000   \n",
       "25%        4.500000e+04  3.276118e+06       1.000000       0.000000   \n",
       "50%        6.180000e+04  5.766517e+07       2.000000       0.000000   \n",
       "75%        8.600000e+04  6.729174e+07       3.000000       0.000000   \n",
       "max        7.141778e+06  7.895894e+07       4.000000      22.000000   \n",
       "\n",
       "       Total Payement   Received Principal  Interest Received  \\\n",
       "count    143727.000000       143727.000000      143727.000000   \n",
       "mean      10840.882025         8407.001538        2352.729746   \n",
       "std        8613.421536         7224.396032        2447.759754   \n",
       "min           0.000000            0.000000           0.000000   \n",
       "25%        4674.775000         3104.160000         841.685000   \n",
       "50%        8212.410000         6000.000000        1632.240000   \n",
       "75%       14175.769677        11664.365000        2904.770000   \n",
       "max       57777.579870        35000.010000       24205.620000   \n",
       "\n",
       "       Number of loans      Defaulter  \n",
       "count    143727.000000  143727.000000  \n",
       "mean          0.005573       0.093712  \n",
       "std           0.098785       0.291429  \n",
       "min           0.000000       0.000000  \n",
       "25%           0.000000       0.000000  \n",
       "50%           0.000000       0.000000  \n",
       "75%           0.000000       0.000000  \n",
       "max           5.000000       1.000000  "
      ]
     },
     "execution_count": 10,
     "metadata": {},
     "output_type": "execute_result"
    }
   ],
   "source": [
    "# Use of describe pandas function to learn basic statistics of all numerical columns in our DataFrame\n",
    "df.describe()"
   ]
  },
  {
   "cell_type": "code",
   "execution_count": 11,
   "metadata": {
    "colab": {
     "base_uri": "https://localhost:8080/"
    },
    "executionInfo": {
     "elapsed": 502,
     "status": "ok",
     "timestamp": 1707323050114,
     "user": {
      "displayName": "Héctor Chapa",
      "userId": "05730037130710075095"
     },
     "user_tz": 360
    },
    "id": "yhLt1T0dlnCE",
    "outputId": "5d317a19-7652-4a64-de11-fdbbd461746a"
   },
   "outputs": [
    {
     "data": {
      "text/plain": [
       "User_id                   0\n",
       "Loan Category             0\n",
       "Amount                31924\n",
       "Interest Rate             0\n",
       "Tenure(years)             0\n",
       "User id_x                 0\n",
       "Employmet type        84642\n",
       "Tier of Employment    84642\n",
       "Industry                  4\n",
       "Role                      0\n",
       "Work Experience           4\n",
       "Total Income(PA)          0\n",
       "User id_y                 0\n",
       "Gender                    0\n",
       "Married               48143\n",
       "Dependents                0\n",
       "Home                      0\n",
       "Pincode                   0\n",
       "Social Profile        47856\n",
       "Is_verified           35803\n",
       "Delinq_2yrs               0\n",
       "Total Payement            0\n",
       "Received Principal        0\n",
       "Interest Received         0\n",
       "Number of loans           0\n",
       "Defaulter                 0\n",
       "dtype: int64"
      ]
     },
     "execution_count": 11,
     "metadata": {},
     "output_type": "execute_result"
    }
   ],
   "source": [
    "# Check count of missing values in each column in the DataFrame\n",
    "df.isnull().sum()"
   ]
  },
  {
   "cell_type": "markdown",
   "metadata": {
    "id": "spQgZ2LHFHIz"
   },
   "source": [
    "# **ANALYSIS HANDLING MISSING VALUES**\n",
    "\n",
    "\n",
    "\n",
    "*   Social Profile: Create a new category for NA values\n",
    "*   Is verified: Create a new category for NA values\n",
    "*   Married: Create a new category for NA values\n",
    "*   Industry: Consider dropping missing values (4)\n",
    "*   Work Experience: Consider dropping missing values (4)\n",
    "*   Amount: Evaluate the impact of removing rows with missing values on the data distribution\n",
    "*   Employment type: Determine the appropriate approach for handling missing values\n",
    "*   Tier of Employment: Determine the appropriate approach for handling missing values\n",
    "\n"
   ]
  },
  {
   "cell_type": "code",
   "execution_count": 12,
   "metadata": {
    "executionInfo": {
     "elapsed": 839,
     "status": "ok",
     "timestamp": 1707323050952,
     "user": {
      "displayName": "Héctor Chapa",
      "userId": "05730037130710075095"
     },
     "user_tz": 360
    },
    "id": "LnJ8_x7WmP3V"
   },
   "outputs": [],
   "source": [
    "# Drop rows with missing values in the 'Industry' and 'Work Experience' columns as the data in both columns is meaniningless due to the small amount of rows with missing values\n",
    "df = df.dropna(subset=['Industry', 'Work Experience'])"
   ]
  },
  {
   "cell_type": "code",
   "execution_count": 13,
   "metadata": {
    "colab": {
     "base_uri": "https://localhost:8080/",
     "height": 499
    },
    "executionInfo": {
     "elapsed": 9,
     "status": "ok",
     "timestamp": 1707323050952,
     "user": {
      "displayName": "Héctor Chapa",
      "userId": "05730037130710075095"
     },
     "user_tz": 360
    },
    "id": "GhU0YDvzT-5_",
    "outputId": "9fe9a3f4-6a2a-4e5b-989b-4c04e56b4604"
   },
   "outputs": [
    {
     "name": "stderr",
     "output_type": "stream",
     "text": [
      "C:\\Users\\hecto\\AppData\\Local\\Temp\\ipykernel_15480\\3742823313.py:2: SettingWithCopyWarning: \n",
      "A value is trying to be set on a copy of a slice from a DataFrame\n",
      "\n",
      "See the caveats in the documentation: https://pandas.pydata.org/pandas-docs/stable/user_guide/indexing.html#returning-a-view-versus-a-copy\n",
      "  df.rename(columns={'Total Payement ': 'Total Payment', 'Employmet type':'Employment Type'}, inplace=True)\n",
      "C:\\Users\\hecto\\AppData\\Local\\Temp\\ipykernel_15480\\3742823313.py:3: SettingWithCopyWarning: \n",
      "A value is trying to be set on a copy of a slice from a DataFrame\n",
      "\n",
      "See the caveats in the documentation: https://pandas.pydata.org/pandas-docs/stable/user_guide/indexing.html#returning-a-view-versus-a-copy\n",
      "  df.fillna({'Social Profile':'Missing', 'Is_verified':'Missing', 'Married':'Missing', 'Employment Type':'Missing'}, inplace=True)\n"
     ]
    },
    {
     "data": {
      "text/html": [
       "<div>\n",
       "<style scoped>\n",
       "    .dataframe tbody tr th:only-of-type {\n",
       "        vertical-align: middle;\n",
       "    }\n",
       "\n",
       "    .dataframe tbody tr th {\n",
       "        vertical-align: top;\n",
       "    }\n",
       "\n",
       "    .dataframe thead th {\n",
       "        text-align: right;\n",
       "    }\n",
       "</style>\n",
       "<table border=\"1\" class=\"dataframe\">\n",
       "  <thead>\n",
       "    <tr style=\"text-align: right;\">\n",
       "      <th></th>\n",
       "      <th>User_id</th>\n",
       "      <th>Loan Category</th>\n",
       "      <th>Amount</th>\n",
       "      <th>Interest Rate</th>\n",
       "      <th>Tenure(years)</th>\n",
       "      <th>User id_x</th>\n",
       "      <th>Employment Type</th>\n",
       "      <th>Tier of Employment</th>\n",
       "      <th>Industry</th>\n",
       "      <th>Role</th>\n",
       "      <th>...</th>\n",
       "      <th>Home</th>\n",
       "      <th>Pincode</th>\n",
       "      <th>Social Profile</th>\n",
       "      <th>Is_verified</th>\n",
       "      <th>Delinq_2yrs</th>\n",
       "      <th>Total Payment</th>\n",
       "      <th>Received Principal</th>\n",
       "      <th>Interest Received</th>\n",
       "      <th>Number of loans</th>\n",
       "      <th>Defaulter</th>\n",
       "    </tr>\n",
       "  </thead>\n",
       "  <tbody>\n",
       "    <tr>\n",
       "      <th>0</th>\n",
       "      <td>7013527</td>\n",
       "      <td>Consolidation</td>\n",
       "      <td>55884.0</td>\n",
       "      <td>11.84</td>\n",
       "      <td>6</td>\n",
       "      <td>7013527</td>\n",
       "      <td>Salaried</td>\n",
       "      <td>B</td>\n",
       "      <td>mLVIVxoGY7TUDJ1FyFoSIZi1SFcaBmO01AydRchaEiGYtU...</td>\n",
       "      <td>KHMbckjadbckIFGAZSEWdkcndwkcnCCM</td>\n",
       "      <td>...</td>\n",
       "      <td>rent</td>\n",
       "      <td>XX852X</td>\n",
       "      <td>No</td>\n",
       "      <td>Missing</td>\n",
       "      <td>0</td>\n",
       "      <td>1824.150000</td>\n",
       "      <td>971.46</td>\n",
       "      <td>852.69</td>\n",
       "      <td>0</td>\n",
       "      <td>1</td>\n",
       "    </tr>\n",
       "    <tr>\n",
       "      <th>1</th>\n",
       "      <td>7014291</td>\n",
       "      <td>Consolidation</td>\n",
       "      <td>55511.0</td>\n",
       "      <td>16.94</td>\n",
       "      <td>4</td>\n",
       "      <td>7014291</td>\n",
       "      <td>Self - Employeed</td>\n",
       "      <td>D</td>\n",
       "      <td>mLVIVxoGY7TUDJ1FyFoSIZi1SFcaBmO01AydRchaEiGYtU...</td>\n",
       "      <td>KHMbckjadbckIFGNCSEWdkcndwkcnCCM</td>\n",
       "      <td>...</td>\n",
       "      <td>mortgage</td>\n",
       "      <td>XX286X</td>\n",
       "      <td>Missing</td>\n",
       "      <td>Source Verified</td>\n",
       "      <td>0</td>\n",
       "      <td>22912.532998</td>\n",
       "      <td>18000.00</td>\n",
       "      <td>4912.53</td>\n",
       "      <td>0</td>\n",
       "      <td>0</td>\n",
       "    </tr>\n",
       "    <tr>\n",
       "      <th>2</th>\n",
       "      <td>7014327</td>\n",
       "      <td>Consolidation</td>\n",
       "      <td>12289.0</td>\n",
       "      <td>11.84</td>\n",
       "      <td>6</td>\n",
       "      <td>7014327</td>\n",
       "      <td>Missing</td>\n",
       "      <td>NaN</td>\n",
       "      <td>mLVIVxoGY7TUDJ1FyFoSIZi1SFcaBmO01AydRchaEiGYtU...</td>\n",
       "      <td>KHMbckjadbckIFGNYSEWdkcndwkcnCCM</td>\n",
       "      <td>...</td>\n",
       "      <td>own</td>\n",
       "      <td>XX113X</td>\n",
       "      <td>No</td>\n",
       "      <td>Missing</td>\n",
       "      <td>0</td>\n",
       "      <td>7800.440000</td>\n",
       "      <td>4489.76</td>\n",
       "      <td>3310.68</td>\n",
       "      <td>0</td>\n",
       "      <td>1</td>\n",
       "    </tr>\n",
       "    <tr>\n",
       "      <th>3</th>\n",
       "      <td>7014304</td>\n",
       "      <td>Credit Card</td>\n",
       "      <td>29324.0</td>\n",
       "      <td>14.71</td>\n",
       "      <td>4</td>\n",
       "      <td>7014304</td>\n",
       "      <td>Missing</td>\n",
       "      <td>NaN</td>\n",
       "      <td>mLVIVxoGY7TUDJ1FyFoSIZi1SFcaBmO01AydRchaEiGYtU...</td>\n",
       "      <td>KHMbckjadbckIFGCASEWdkcndwkcnCCM</td>\n",
       "      <td>...</td>\n",
       "      <td>rent</td>\n",
       "      <td>XX941X</td>\n",
       "      <td>Yes</td>\n",
       "      <td>Missing</td>\n",
       "      <td>0</td>\n",
       "      <td>6672.050000</td>\n",
       "      <td>5212.29</td>\n",
       "      <td>1459.76</td>\n",
       "      <td>0</td>\n",
       "      <td>0</td>\n",
       "    </tr>\n",
       "    <tr>\n",
       "      <th>4</th>\n",
       "      <td>7031995</td>\n",
       "      <td>Credit Card</td>\n",
       "      <td>30252.0</td>\n",
       "      <td>14.71</td>\n",
       "      <td>4</td>\n",
       "      <td>7031995</td>\n",
       "      <td>Missing</td>\n",
       "      <td>NaN</td>\n",
       "      <td>mLVIVxoGY7TUDJ1FyFoSIZi1SFcaBmO01AydRchaEiGYtU...</td>\n",
       "      <td>KHMbckjadbckIFGCASEWdkcndwkcnCCM</td>\n",
       "      <td>...</td>\n",
       "      <td>rent</td>\n",
       "      <td>XX913X</td>\n",
       "      <td>No</td>\n",
       "      <td>Verified</td>\n",
       "      <td>0</td>\n",
       "      <td>11793.001345</td>\n",
       "      <td>10000.00</td>\n",
       "      <td>1793.00</td>\n",
       "      <td>0</td>\n",
       "      <td>0</td>\n",
       "    </tr>\n",
       "  </tbody>\n",
       "</table>\n",
       "<p>5 rows × 26 columns</p>\n",
       "</div>"
      ],
      "text/plain": [
       "   User_id  Loan Category   Amount  Interest Rate  Tenure(years)  User id_x  \\\n",
       "0  7013527  Consolidation  55884.0          11.84              6    7013527   \n",
       "1  7014291  Consolidation  55511.0          16.94              4    7014291   \n",
       "2  7014327  Consolidation  12289.0          11.84              6    7014327   \n",
       "3  7014304    Credit Card  29324.0          14.71              4    7014304   \n",
       "4  7031995    Credit Card  30252.0          14.71              4    7031995   \n",
       "\n",
       "    Employment Type Tier of Employment  \\\n",
       "0          Salaried                  B   \n",
       "1  Self - Employeed                  D   \n",
       "2           Missing                NaN   \n",
       "3           Missing                NaN   \n",
       "4           Missing                NaN   \n",
       "\n",
       "                                            Industry  \\\n",
       "0  mLVIVxoGY7TUDJ1FyFoSIZi1SFcaBmO01AydRchaEiGYtU...   \n",
       "1  mLVIVxoGY7TUDJ1FyFoSIZi1SFcaBmO01AydRchaEiGYtU...   \n",
       "2  mLVIVxoGY7TUDJ1FyFoSIZi1SFcaBmO01AydRchaEiGYtU...   \n",
       "3  mLVIVxoGY7TUDJ1FyFoSIZi1SFcaBmO01AydRchaEiGYtU...   \n",
       "4  mLVIVxoGY7TUDJ1FyFoSIZi1SFcaBmO01AydRchaEiGYtU...   \n",
       "\n",
       "                               Role  ...      Home  Pincode  Social Profile  \\\n",
       "0  KHMbckjadbckIFGAZSEWdkcndwkcnCCM  ...      rent   XX852X              No   \n",
       "1  KHMbckjadbckIFGNCSEWdkcndwkcnCCM  ...  mortgage   XX286X         Missing   \n",
       "2  KHMbckjadbckIFGNYSEWdkcndwkcnCCM  ...       own   XX113X              No   \n",
       "3  KHMbckjadbckIFGCASEWdkcndwkcnCCM  ...      rent   XX941X             Yes   \n",
       "4  KHMbckjadbckIFGCASEWdkcndwkcnCCM  ...      rent   XX913X              No   \n",
       "\n",
       "       Is_verified Delinq_2yrs  Total Payment Received Principal  \\\n",
       "0          Missing           0    1824.150000             971.46   \n",
       "1  Source Verified           0   22912.532998           18000.00   \n",
       "2          Missing           0    7800.440000            4489.76   \n",
       "3          Missing           0    6672.050000            5212.29   \n",
       "4         Verified           0   11793.001345           10000.00   \n",
       "\n",
       "  Interest Received Number of loans Defaulter  \n",
       "0            852.69               0         1  \n",
       "1           4912.53               0         0  \n",
       "2           3310.68               0         1  \n",
       "3           1459.76               0         0  \n",
       "4           1793.00               0         0  \n",
       "\n",
       "[5 rows x 26 columns]"
      ]
     },
     "execution_count": 13,
     "metadata": {},
     "output_type": "execute_result"
    }
   ],
   "source": [
    "# Replace null values 'NA' with 'Missing' value in columns 'Social Profile', 'Is verified', 'Married', 'Employment type'\n",
    "df.rename(columns={'Total Payement ': 'Total Payment', 'Employmet type':'Employment Type'}, inplace=True)\n",
    "df.fillna({'Social Profile':'Missing', 'Is_verified':'Missing', 'Married':'Missing', 'Employment Type':'Missing'}, inplace=True)\n",
    "df.head()"
   ]
  },
  {
   "cell_type": "code",
   "execution_count": 14,
   "metadata": {
    "colab": {
     "base_uri": "https://localhost:8080/"
    },
    "executionInfo": {
     "elapsed": 7,
     "status": "ok",
     "timestamp": 1707323050952,
     "user": {
      "displayName": "Héctor Chapa",
      "userId": "05730037130710075095"
     },
     "user_tz": 360
    },
    "id": "bvxWC7IzMg8c",
    "outputId": "9aacde99-e186-4892-892f-54b0c96f7104"
   },
   "outputs": [
    {
     "name": "stderr",
     "output_type": "stream",
     "text": [
      "C:\\Users\\hecto\\AppData\\Local\\Temp\\ipykernel_15480\\3181412511.py:2: SettingWithCopyWarning: \n",
      "A value is trying to be set on a copy of a slice from a DataFrame.\n",
      "Try using .loc[row_indexer,col_indexer] = value instead\n",
      "\n",
      "See the caveats in the documentation: https://pandas.pydata.org/pandas-docs/stable/user_guide/indexing.html#returning-a-view-versus-a-copy\n",
      "  df['amount_missing'] = np.where(df['Amount'].isnull(), 1, 0)\n"
     ]
    }
   ],
   "source": [
    "# Create a new variable \"amount_missing\" to indice if the \"Amount\" is missing or not. Assign 1 if 'Amount' is null, otherwise assign 0.\n",
    "df['amount_missing'] = np.where(df['Amount'].isnull(), 1, 0)"
   ]
  },
  {
   "cell_type": "code",
   "execution_count": 15,
   "metadata": {
    "colab": {
     "base_uri": "https://localhost:8080/"
    },
    "executionInfo": {
     "elapsed": 6,
     "status": "ok",
     "timestamp": 1707323050952,
     "user": {
      "displayName": "Héctor Chapa",
      "userId": "05730037130710075095"
     },
     "user_tz": 360
    },
    "id": "FfIS_7EwaxlV",
    "outputId": "50eb450f-5dd7-4f57-b07b-57e0619b47f2"
   },
   "outputs": [
    {
     "name": "stderr",
     "output_type": "stream",
     "text": [
      "C:\\Users\\hecto\\AppData\\Local\\Temp\\ipykernel_15480\\2880490832.py:2: SettingWithCopyWarning: \n",
      "A value is trying to be set on a copy of a slice from a DataFrame\n",
      "\n",
      "See the caveats in the documentation: https://pandas.pydata.org/pandas-docs/stable/user_guide/indexing.html#returning-a-view-versus-a-copy\n",
      "  df.fillna({'Amount':-1000}, inplace=True)\n"
     ]
    }
   ],
   "source": [
    "#We change the null values in 'Amount' column to 'missing' category.\n",
    "df.fillna({'Amount':-1000}, inplace=True)"
   ]
  },
  {
   "cell_type": "code",
   "execution_count": 16,
   "metadata": {
    "colab": {
     "base_uri": "https://localhost:8080/"
    },
    "executionInfo": {
     "elapsed": 4,
     "status": "ok",
     "timestamp": 1707323050952,
     "user": {
      "displayName": "Héctor Chapa",
      "userId": "05730037130710075095"
     },
     "user_tz": 360
    },
    "id": "8i3Gan0OhmMs",
    "outputId": "f20c7f67-b47e-4c57-de3e-aba268a5219f"
   },
   "outputs": [
    {
     "name": "stderr",
     "output_type": "stream",
     "text": [
      "C:\\Users\\hecto\\AppData\\Local\\Temp\\ipykernel_15480\\2361938063.py:2: SettingWithCopyWarning: \n",
      "A value is trying to be set on a copy of a slice from a DataFrame\n",
      "\n",
      "See the caveats in the documentation: https://pandas.pydata.org/pandas-docs/stable/user_guide/indexing.html#returning-a-view-versus-a-copy\n",
      "  df.fillna({'Tier of Employment':'Z'}, inplace=True)\n"
     ]
    }
   ],
   "source": [
    "#We change the null values in 'Tier of Employment' column to 'Z' category.\n",
    "df.fillna({'Tier of Employment':'Z'}, inplace=True)"
   ]
  },
  {
   "cell_type": "code",
   "execution_count": 17,
   "metadata": {
    "colab": {
     "base_uri": "https://localhost:8080/"
    },
    "executionInfo": {
     "elapsed": 295,
     "status": "ok",
     "timestamp": 1707323051244,
     "user": {
      "displayName": "Héctor Chapa",
      "userId": "05730037130710075095"
     },
     "user_tz": 360
    },
    "id": "cbqy1Vj1Xl1_",
    "outputId": "df9885ae-16d8-4e76-98f2-a769d3f390a5"
   },
   "outputs": [
    {
     "data": {
      "text/plain": [
       "User_id               0\n",
       "Loan Category         0\n",
       "Amount                0\n",
       "Interest Rate         0\n",
       "Tenure(years)         0\n",
       "User id_x             0\n",
       "Employment Type       0\n",
       "Tier of Employment    0\n",
       "Industry              0\n",
       "Role                  0\n",
       "Work Experience       0\n",
       "Total Income(PA)      0\n",
       "User id_y             0\n",
       "Gender                0\n",
       "Married               0\n",
       "Dependents            0\n",
       "Home                  0\n",
       "Pincode               0\n",
       "Social Profile        0\n",
       "Is_verified           0\n",
       "Delinq_2yrs           0\n",
       "Total Payment         0\n",
       "Received Principal    0\n",
       "Interest Received     0\n",
       "Number of loans       0\n",
       "Defaulter             0\n",
       "amount_missing        0\n",
       "dtype: int64"
      ]
     },
     "execution_count": 17,
     "metadata": {},
     "output_type": "execute_result"
    }
   ],
   "source": [
    "# Check once again count of missing values in each column in the DataFrame after previous transformations\n",
    "df.isnull().sum()"
   ]
  },
  {
   "cell_type": "markdown",
   "metadata": {
    "id": "bv9riyahiK0V"
   },
   "source": [
    "# **DROP CATEGORICAL COLUMN WITH TOO MANY CATEGORIES**"
   ]
  },
  {
   "cell_type": "code",
   "execution_count": 18,
   "metadata": {
    "colab": {
     "base_uri": "https://localhost:8080/"
    },
    "executionInfo": {
     "elapsed": 2,
     "status": "ok",
     "timestamp": 1707323051244,
     "user": {
      "displayName": "Héctor Chapa",
      "userId": "05730037130710075095"
     },
     "user_tz": 360
    },
    "id": "Pcr9O0wyYClO",
    "outputId": "21698e8f-dc21-485c-a3a9-18c415e8d78e"
   },
   "outputs": [
    {
     "data": {
      "text/plain": [
       "User_id               133748\n",
       "Loan Category              7\n",
       "Amount                 86157\n",
       "Interest Rate            137\n",
       "Tenure(years)              2\n",
       "User id_x             133748\n",
       "Employment Type            3\n",
       "Tier of Employment         8\n",
       "Industry               12974\n",
       "Role                      46\n",
       "Work Experience            7\n",
       "Total Income(PA)       11380\n",
       "User id_y             133748\n",
       "Gender                     3\n",
       "Married                    3\n",
       "Dependents                 5\n",
       "Home                       5\n",
       "Pincode                  844\n",
       "Social Profile             3\n",
       "Is_verified                4\n",
       "Delinq_2yrs               22\n",
       "Total Payment         104199\n",
       "Received Principal     42021\n",
       "Interest Received      93859\n",
       "Number of loans            5\n",
       "Defaulter                  2\n",
       "amount_missing             2\n",
       "dtype: int64"
      ]
     },
     "execution_count": 18,
     "metadata": {},
     "output_type": "execute_result"
    }
   ],
   "source": [
    "# Print the number of unique values in all columns\n",
    "df.nunique()"
   ]
  },
  {
   "cell_type": "markdown",
   "metadata": {
    "id": "LzbAltJinUKi"
   },
   "source": [
    "**Observations**\n",
    "*   Some columns are ordinal and those categorical variables would need to be trated differently during categorical encoding\n",
    "*   Address the challenge of categorical columns with a large number of categories. Determine which categories fall into this category and develop a strategy for handling them\n",
    "\n"
   ]
  },
  {
   "cell_type": "code",
   "execution_count": 19,
   "metadata": {
    "colab": {
     "base_uri": "https://localhost:8080/"
    },
    "executionInfo": {
     "elapsed": 292,
     "status": "ok",
     "timestamp": 1707323051535,
     "user": {
      "displayName": "Héctor Chapa",
      "userId": "05730037130710075095"
     },
     "user_tz": 360
    },
    "id": "1jKmgwIviPnU",
    "outputId": "2dc162d6-f88e-46bc-a02c-6e4a52e7aa35"
   },
   "outputs": [
    {
     "data": {
      "text/plain": [
       "Loan Category              7\n",
       "Amount                 86157\n",
       "Interest Rate            137\n",
       "Tenure(years)              2\n",
       "Employment Type            3\n",
       "Tier of Employment         8\n",
       "Work Experience            7\n",
       "Total Income(PA)       11380\n",
       "Gender                     3\n",
       "Married                    3\n",
       "Dependents                 5\n",
       "Home                       5\n",
       "Social Profile             3\n",
       "Is_verified                4\n",
       "Delinq_2yrs               22\n",
       "Total Payment         104199\n",
       "Received Principal     42021\n",
       "Interest Received      93859\n",
       "Number of loans            5\n",
       "Defaulter                  2\n",
       "amount_missing             2\n",
       "dtype: int64"
      ]
     },
     "execution_count": 19,
     "metadata": {},
     "output_type": "execute_result"
    }
   ],
   "source": [
    "# Dropping 'Industry' and User_id columns as it does not have any significant information\n",
    "df = df.drop(columns=[\"Industry\", 'User_id', 'User id_x', 'User id_y', 'Pincode', 'Role'])\n",
    "df.nunique()"
   ]
  },
  {
   "cell_type": "markdown",
   "metadata": {
    "id": "C5t3mom0xVN7"
   },
   "source": [
    "# **MULTICOLLINEARITY**\n",
    "\n",
    "To assess the relationships between variables in the input DataFrame, we compute the Spearman correlation matrix that tells us how much two variables are correlated.\n",
    "<br>By examining the heatmap, we can identify potential concerns related to multicollinearity which occurs when two or more independent variables exhibit high correlation. Multicollinearity can impact the interpretation of the model and lead to overfitting. In such instances, it may be necessary to remove one of the correlated variables to mitigate this issues."
   ]
  },
  {
   "cell_type": "code",
   "execution_count": 20,
   "metadata": {
    "colab": {
     "base_uri": "https://localhost:8080/",
     "height": 1000
    },
    "executionInfo": {
     "elapsed": 9292,
     "status": "ok",
     "timestamp": 1707323060826,
     "user": {
      "displayName": "Héctor Chapa",
      "userId": "05730037130710075095"
     },
     "user_tz": 360
    },
    "id": "udwD8wo7x1iz",
    "outputId": "3e2af3a1-8996-4c09-ab49-361c6c25136a"
   },
   "outputs": [
    {
     "ename": "ValueError",
     "evalue": "could not convert string to float: 'Consolidation'",
     "output_type": "error",
     "traceback": [
      "\u001b[1;31m---------------------------------------------------------------------------\u001b[0m",
      "\u001b[1;31mValueError\u001b[0m                                Traceback (most recent call last)",
      "Cell \u001b[1;32mIn[20], line 5\u001b[0m\n\u001b[0;32m      2\u001b[0m \u001b[38;5;28;01mimport\u001b[39;00m \u001b[38;5;21;01mseaborn\u001b[39;00m \u001b[38;5;28;01mas\u001b[39;00m \u001b[38;5;21;01msns\u001b[39;00m\n\u001b[0;32m      3\u001b[0m \u001b[38;5;28;01mimport\u001b[39;00m \u001b[38;5;21;01mmatplotlib\u001b[39;00m\u001b[38;5;21;01m.\u001b[39;00m\u001b[38;5;21;01mpyplot\u001b[39;00m \u001b[38;5;28;01mas\u001b[39;00m \u001b[38;5;21;01mplt\u001b[39;00m\n\u001b[1;32m----> 5\u001b[0m corr_matrix \u001b[38;5;241m=\u001b[39m df\u001b[38;5;241m.\u001b[39mcorr()\n\u001b[0;32m      6\u001b[0m plt\u001b[38;5;241m.\u001b[39mfigure(figsize\u001b[38;5;241m=\u001b[39m(\u001b[38;5;241m15\u001b[39m,\u001b[38;5;241m15\u001b[39m), dpi\u001b[38;5;241m=\u001b[39m\u001b[38;5;241m600\u001b[39m)\n\u001b[0;32m      7\u001b[0m x \u001b[38;5;241m=\u001b[39m sns\u001b[38;5;241m.\u001b[39mheatmap(corr_matrix, square\u001b[38;5;241m=\u001b[39m\u001b[38;5;28;01mTrue\u001b[39;00m, center\u001b[38;5;241m=\u001b[39m\u001b[38;5;241m0\u001b[39m, annot\u001b[38;5;241m=\u001b[39m\u001b[38;5;28;01mTrue\u001b[39;00m, linewidths\u001b[38;5;241m=\u001b[39m\u001b[38;5;241m.5\u001b[39m, cmap\u001b[38;5;241m=\u001b[39m\u001b[38;5;124m\"\u001b[39m\u001b[38;5;124mRdBu_r\u001b[39m\u001b[38;5;124m\"\u001b[39m, cbar_kws\u001b[38;5;241m=\u001b[39m{\u001b[38;5;124m'\u001b[39m\u001b[38;5;124mshrink\u001b[39m\u001b[38;5;124m'\u001b[39m:\u001b[38;5;241m0.8\u001b[39m}, vmin\u001b[38;5;241m=\u001b[39m\u001b[38;5;241m-\u001b[39m\u001b[38;5;241m1\u001b[39m, vmax\u001b[38;5;241m=\u001b[39m\u001b[38;5;241m1\u001b[39m)\n",
      "File \u001b[1;32m~\\anaconda3\\Lib\\site-packages\\pandas\\core\\frame.py:10054\u001b[0m, in \u001b[0;36mDataFrame.corr\u001b[1;34m(self, method, min_periods, numeric_only)\u001b[0m\n\u001b[0;32m  10052\u001b[0m cols \u001b[38;5;241m=\u001b[39m data\u001b[38;5;241m.\u001b[39mcolumns\n\u001b[0;32m  10053\u001b[0m idx \u001b[38;5;241m=\u001b[39m cols\u001b[38;5;241m.\u001b[39mcopy()\n\u001b[1;32m> 10054\u001b[0m mat \u001b[38;5;241m=\u001b[39m data\u001b[38;5;241m.\u001b[39mto_numpy(dtype\u001b[38;5;241m=\u001b[39m\u001b[38;5;28mfloat\u001b[39m, na_value\u001b[38;5;241m=\u001b[39mnp\u001b[38;5;241m.\u001b[39mnan, copy\u001b[38;5;241m=\u001b[39m\u001b[38;5;28;01mFalse\u001b[39;00m)\n\u001b[0;32m  10056\u001b[0m \u001b[38;5;28;01mif\u001b[39;00m method \u001b[38;5;241m==\u001b[39m \u001b[38;5;124m\"\u001b[39m\u001b[38;5;124mpearson\u001b[39m\u001b[38;5;124m\"\u001b[39m:\n\u001b[0;32m  10057\u001b[0m     correl \u001b[38;5;241m=\u001b[39m libalgos\u001b[38;5;241m.\u001b[39mnancorr(mat, minp\u001b[38;5;241m=\u001b[39mmin_periods)\n",
      "File \u001b[1;32m~\\anaconda3\\Lib\\site-packages\\pandas\\core\\frame.py:1838\u001b[0m, in \u001b[0;36mDataFrame.to_numpy\u001b[1;34m(self, dtype, copy, na_value)\u001b[0m\n\u001b[0;32m   1836\u001b[0m \u001b[38;5;28;01mif\u001b[39;00m dtype \u001b[38;5;129;01mis\u001b[39;00m \u001b[38;5;129;01mnot\u001b[39;00m \u001b[38;5;28;01mNone\u001b[39;00m:\n\u001b[0;32m   1837\u001b[0m     dtype \u001b[38;5;241m=\u001b[39m np\u001b[38;5;241m.\u001b[39mdtype(dtype)\n\u001b[1;32m-> 1838\u001b[0m result \u001b[38;5;241m=\u001b[39m \u001b[38;5;28mself\u001b[39m\u001b[38;5;241m.\u001b[39m_mgr\u001b[38;5;241m.\u001b[39mas_array(dtype\u001b[38;5;241m=\u001b[39mdtype, copy\u001b[38;5;241m=\u001b[39mcopy, na_value\u001b[38;5;241m=\u001b[39mna_value)\n\u001b[0;32m   1839\u001b[0m \u001b[38;5;28;01mif\u001b[39;00m result\u001b[38;5;241m.\u001b[39mdtype \u001b[38;5;129;01mis\u001b[39;00m \u001b[38;5;129;01mnot\u001b[39;00m dtype:\n\u001b[0;32m   1840\u001b[0m     result \u001b[38;5;241m=\u001b[39m np\u001b[38;5;241m.\u001b[39marray(result, dtype\u001b[38;5;241m=\u001b[39mdtype, copy\u001b[38;5;241m=\u001b[39m\u001b[38;5;28;01mFalse\u001b[39;00m)\n",
      "File \u001b[1;32m~\\anaconda3\\Lib\\site-packages\\pandas\\core\\internals\\managers.py:1732\u001b[0m, in \u001b[0;36mBlockManager.as_array\u001b[1;34m(self, dtype, copy, na_value)\u001b[0m\n\u001b[0;32m   1730\u001b[0m         arr\u001b[38;5;241m.\u001b[39mflags\u001b[38;5;241m.\u001b[39mwriteable \u001b[38;5;241m=\u001b[39m \u001b[38;5;28;01mFalse\u001b[39;00m\n\u001b[0;32m   1731\u001b[0m \u001b[38;5;28;01melse\u001b[39;00m:\n\u001b[1;32m-> 1732\u001b[0m     arr \u001b[38;5;241m=\u001b[39m \u001b[38;5;28mself\u001b[39m\u001b[38;5;241m.\u001b[39m_interleave(dtype\u001b[38;5;241m=\u001b[39mdtype, na_value\u001b[38;5;241m=\u001b[39mna_value)\n\u001b[0;32m   1733\u001b[0m     \u001b[38;5;66;03m# The underlying data was copied within _interleave, so no need\u001b[39;00m\n\u001b[0;32m   1734\u001b[0m     \u001b[38;5;66;03m# to further copy if copy=True or setting na_value\u001b[39;00m\n\u001b[0;32m   1736\u001b[0m \u001b[38;5;28;01mif\u001b[39;00m na_value \u001b[38;5;129;01mis\u001b[39;00m \u001b[38;5;129;01mnot\u001b[39;00m lib\u001b[38;5;241m.\u001b[39mno_default:\n",
      "File \u001b[1;32m~\\anaconda3\\Lib\\site-packages\\pandas\\core\\internals\\managers.py:1794\u001b[0m, in \u001b[0;36mBlockManager._interleave\u001b[1;34m(self, dtype, na_value)\u001b[0m\n\u001b[0;32m   1792\u001b[0m     \u001b[38;5;28;01melse\u001b[39;00m:\n\u001b[0;32m   1793\u001b[0m         arr \u001b[38;5;241m=\u001b[39m blk\u001b[38;5;241m.\u001b[39mget_values(dtype)\n\u001b[1;32m-> 1794\u001b[0m     result[rl\u001b[38;5;241m.\u001b[39mindexer] \u001b[38;5;241m=\u001b[39m arr\n\u001b[0;32m   1795\u001b[0m     itemmask[rl\u001b[38;5;241m.\u001b[39mindexer] \u001b[38;5;241m=\u001b[39m \u001b[38;5;241m1\u001b[39m\n\u001b[0;32m   1797\u001b[0m \u001b[38;5;28;01mif\u001b[39;00m \u001b[38;5;129;01mnot\u001b[39;00m itemmask\u001b[38;5;241m.\u001b[39mall():\n",
      "\u001b[1;31mValueError\u001b[0m: could not convert string to float: 'Consolidation'"
     ]
    }
   ],
   "source": [
    "# Multicollinearity is the ocurrence of high intercorrelations among two or more independent variables in a multiple regression mode\n",
    "import seaborn as sns\n",
    "import matplotlib.pyplot as plt\n",
    "\n",
    "corr_matrix = df.corr()\n",
    "plt.figure(figsize=(15,15), dpi=600)\n",
    "x = sns.heatmap(corr_matrix, square=True, center=0, annot=True, linewidths=.5, cmap=\"RdBu_r\", cbar_kws={'shrink':0.8}, vmin=-1, vmax=1)\n",
    "x.set_xticklabels(x.get_xticklabels(), rotation=45, fontsize=8, ha='right')\n",
    "plt.title(\"Correlation Matrix\")\n",
    "plt.show()"
   ]
  },
  {
   "cell_type": "markdown",
   "metadata": {
    "id": "xZvVrfLx13V2"
   },
   "source": [
    "**Observation from the heatmap**\n",
    "No two variables have high correlation with each other, so there is no issue of multicollinearity. It is safe to use all variables in machine learning model building\n",
    "\n",
    "**Spearman Correlation Coefficient**\n",
    "<br>Spearman works best if there are nonlinear relationships between different variables\n",
    "\n",
    "--------------------------------------------------------------------------------\n",
    "\n",
    "**We can confirm non-linear relationship between features by looking at pair-wise scatter plots below**\n",
    "There are non-linear relationships between features, so our decision of going with Spearman was CORRECT.\n",
    "\n",
    "\n",
    "**Scatter Plots to visualize correlations amongst variables**\n",
    "The following code generates a scatter plot matrix also known as a pair plot of all numeric features in the input DataFrame using the seaborn library.\n",
    "The diagonal of the plot matrix shows a histogram of each variable's distribution. This allows for visual inspectino of the pairwise relationships between variables, which canbe useful for identifying patterns, trends, correlations, or potential outliers in the data."
   ]
  },
  {
   "cell_type": "code",
   "execution_count": null,
   "metadata": {
    "colab": {
     "base_uri": "https://localhost:8080/"
    },
    "id": "EvEG6zopyflj",
    "outputId": "84c20698-e9c2-4d70-843a-23621212a6c8"
   },
   "outputs": [],
   "source": [
    "# Plot interaction scatter plots using seaborn\n",
    "\n",
    "sns.pairplot(df)"
   ]
  },
  {
   "cell_type": "markdown",
   "metadata": {
    "id": "mFj0JBKYMuPQ"
   },
   "source": [
    "# **Understand Skewness**"
   ]
  },
  {
   "cell_type": "code",
   "execution_count": null,
   "metadata": {
    "colab": {
     "background_save": true
    },
    "id": "ggeqnDaV3epV"
   },
   "outputs": [],
   "source": [
    "import plotly.express as px\n",
    "import numpy as np"
   ]
  },
  {
   "cell_type": "code",
   "execution_count": null,
   "metadata": {
    "id": "X1MvNvuHMtjc"
   },
   "outputs": [],
   "source": [
    "# Display features distribution histograms\n",
    "def Feature_Distributions_Histogram(df):\n",
    "    # Generate histograms for each column\n",
    "    for c in df.columns:\n",
    "        fig = px.histogram(df, x=c, hover_data=df.columns)\n",
    "        fig.show()\n",
    "Feature_Distributions_Histogram(df)"
   ]
  },
  {
   "cell_type": "markdown",
   "metadata": {
    "id": "44YFiWOTyELd"
   },
   "source": [
    "**Skewness**\n",
    "\n",
    "*   Skewness is a statistical measure that describes the asymmetry or lack of asymmetry in a distribution. It provides insights into the shape of the distribution and the relative positioning of the mean, median and mode.\n",
    "*   A positive skewness value indicates a right-skewed distribution, where the tail is elongated towards the right A negative skewness value indicates a left-skewed distribution where the tail is elongated towards the left. A skewness value of 0 indicates a symmetric distribution.\n",
    "*   By quantifying skewness we can gain a numerical understanding of the distrubtion's asymmetry and further analyze its implications in data analysis and modeling.\n",
    "\n",
    "**How to quantify skewness**\n",
    "*   Skewness = 3 * mean (mean - median) / standard deviation\n",
    "--------------------------------------------------------------------------------\n",
    "**Question to consider**\n",
    "*   Should we remove outliers/extreme values first and then fix skewness or the other way around?\n",
    "--------------------------------------------------------------------------------\n",
    "**Decision**\n",
    "*   to address the presence  of outliers in skewed data, we'll first correct the skewness\n",
    "*   One approach mitigating the impact of outliers is by utilizing z-score. The z-score measures how many standard deviations an individual data point is away from the mean. By setting a threshold, such as 3 standard deviations, data points that exceed this threshold can be considered as outliers and subsequently removed from the dataset.\n",
    "\n",
    "**Let us print skewness in each feature and use log transformation to fix skewness.**\n",
    "\n",
    "**Note**\n",
    "\n",
    "It is important no note that there are numerous features in the dataset with a value of 0. to address this issue and normalize the data, we can apply a log transformation specifically to the non-zero values. By taking the logarithm of these values, we can achieve a more symmetric distribution and reduce the impact of extreme values. This transformation can be particularly useful when working with skewed data or variables that exhibit a wide range of values.\n",
    "\n",
    "Let's only transform features if skewness is in the following range\n",
    "*   **Skewness <-3 OR Skewness > 3**\n",
    "\n",
    "\n",
    "\n",
    "\n",
    "\n",
    "\n",
    "\n"
   ]
  },
  {
   "cell_type": "code",
   "execution_count": null,
   "metadata": {
    "id": "rD8ugGfzNWas"
   },
   "outputs": [],
   "source": [
    "# Add all the features to check and fix skewness in features_log array\n",
    "features_log = ['Amount','Interest Rate','Tenure(years)','Dependents','Total Payment','Received Principal','Interest Received']\n",
    "def fix_skewness(df, features):\n",
    "  features_log = features\n",
    "  for f in features_log:\n",
    "    sk=df[f].skew()\n",
    "    print(\"Initial skewness in feature: \",f,\" is:\", sk)\n",
    "\n",
    "    if sk>3 or sk<-3:\n",
    "\n",
    "      Log_Fare = df[f].map(lambda i: np.log(i) if i>0 else 0)\n",
    "      df[f]= Log_Fare\n",
    "      print(\"Final skewness in feature: \",f,\"is: \", Log_Fare.skew())\n",
    "      fig = px.histogram(Log_Fare, x=f)\n",
    "      fig.show()\n",
    "  return df\n",
    "df = fix_skewness(df, features_log)"
   ]
  },
  {
   "cell_type": "markdown",
   "metadata": {
    "id": "cYFVgiVSFoYB"
   },
   "source": [
    "## **One-Hot Encoding of Categorical Features and Ordinal Encoding of Ordinal Features**\n",
    "\n",
    "**Categorical and Ordinal Variables**\n",
    "<br>Categorical variables refer to variables that represent discrete categories or labels, such as gender (male/female), or product types (A/B/C). These variables do not have a specific numerical order or hierarchy.\n",
    "<br>On the other hand, ordinal variables also represent discrete categories, but they haven an inherent order or raking associated to them. Examples of ordinal variables include educational level (elementary/middle/high-school/college), employment status (unemployed/part-time/full-time), or customer satisfaction rating (low/medium/high).\n",
    "\n",
    "### **Categorical Hot-Encoding**"
   ]
  },
  {
   "cell_type": "code",
   "execution_count": null,
   "metadata": {
    "id": "smBimDTk3cGd"
   },
   "outputs": [],
   "source": [
    "# Add all categorical features for categorical one-hot encoding in categorical_features array\n",
    "data = df\n",
    "categorical_features = ['Gender','Married','Home','Social Profile','Loan Category','Employment Type','Is_verified']\n",
    "\n",
    "# Perform one-hot encoding using pandas get_dummies() function\n",
    "encoded_data = pd.get_dummies(data, columns=categorical_features)"
   ]
  },
  {
   "cell_type": "code",
   "execution_count": null,
   "metadata": {
    "id": "jm3BeR8VHoXN"
   },
   "outputs": [],
   "source": [
    "encoded_data.head()"
   ]
  },
  {
   "cell_type": "markdown",
   "metadata": {
    "id": "_2W3Pn27Hzkf"
   },
   "source": [
    "### **Ordinal Encoding**"
   ]
  },
  {
   "cell_type": "code",
   "execution_count": null,
   "metadata": {
    "id": "UhBSeQScHph7"
   },
   "outputs": [],
   "source": [
    "# Define the ordinal features array\n",
    "ordinal_features=['Tier of Employment', 'Work Experience']\n",
    "\n",
    "# Define the pandas DataFrame for encoding\n",
    "data = encoded_data\n",
    "\n",
    "# Create a custom mapping of categories to numerical  labels\n",
    "tier_employment_order = list(encoded_data[\"Tier of Employment\"].unique())\n",
    "tier_employment_order.sort()\n",
    "work_experience_order = [0,'<1', '1-2','2-3','3-5','5-10','10+']\n",
    "\n",
    "custom_mapping = [tier_employment_order, work_experience_order]\n",
    "\n",
    "# Create the function to perform ordinal encoding\n",
    "# Call the corresponding library and module to import OrdinalEncoder\n",
    "from sklearn.preprocessing import OrdinalEncoder\n",
    "def perform_ordinal_encoding(data, ordinal_features, custom_mapping):\n",
    "\n",
    "  # Perform ordinal encoding using OrdinalEncoder with the custom mapping\n",
    "  encoder = OrdinalEncoder(categories=custom_mapping)\n",
    "  data[ordinal_features]=encoder.fit_transform(data[ordinal_features])\n",
    "\n",
    "  # Return the encoded DataFrame\n",
    "  return data\n",
    "\n",
    "# Call the function to perform ordinal encoding\n",
    "data = perform_ordinal_encoding(data, ordinal_features, custom_mapping)"
   ]
  },
  {
   "cell_type": "code",
   "execution_count": null,
   "metadata": {
    "id": "RSp56by4Jca5"
   },
   "outputs": [],
   "source": [
    "data.head()"
   ]
  },
  {
   "cell_type": "markdown",
   "metadata": {
    "id": "Yl1yGV4G5gV2"
   },
   "source": [
    "## **Fix Data Imbalance in the Target Variable**\n",
    "\n",
    "### **Over-Sampling**\n",
    "Increase the number of instances in the minory class (defaulters) by duplicating existing examples or generating synthetic examples to achieve a balanced dataset."
   ]
  },
  {
   "cell_type": "code",
   "execution_count": null,
   "metadata": {
    "id": "671CrLRtJveD"
   },
   "outputs": [],
   "source": [
    "data['Defaulter'].value_counts()"
   ]
  },
  {
   "cell_type": "markdown",
   "metadata": {
    "id": "BmC715K-BH3_"
   },
   "source": [
    "It is not recommended to use SMOTE method or technique when minority class is less than 10%.\n",
    "<br>To solve imbalance on dependent variable, we will not proceed with SMOTE method due to minority class being equal to 10.34% of the mayority class, quite close to the limit stated by the above-mentioned recommendation."
   ]
  },
  {
   "cell_type": "code",
   "execution_count": null,
   "metadata": {
    "id": "xJnjbzfMX8UL"
   },
   "outputs": [],
   "source": []
  }
 ],
 "metadata": {
  "colab": {
   "authorship_tag": "ABX9TyMNVqwNQxzRB6fX0QJIvveW",
   "name": "",
   "version": ""
  },
  "kernelspec": {
   "display_name": "Python 3 (ipykernel)",
   "language": "python",
   "name": "python3"
  },
  "language_info": {
   "codemirror_mode": {
    "name": "ipython",
    "version": 3
   },
   "file_extension": ".py",
   "mimetype": "text/x-python",
   "name": "python",
   "nbconvert_exporter": "python",
   "pygments_lexer": "ipython3",
   "version": "3.11.5"
  }
 },
 "nbformat": 4,
 "nbformat_minor": 1
}
